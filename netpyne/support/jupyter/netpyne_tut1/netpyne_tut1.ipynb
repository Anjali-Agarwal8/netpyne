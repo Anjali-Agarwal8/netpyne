{
 "cells": [
  {
   "cell_type": "markdown",
   "metadata": {},
   "source": [
    "# Running NetPyNE in a Jupyter Notebook\n",
    "\n",
    "## Preliminaries\n",
    "\n",
    "We don't want to affect your system in any way, so we will operate from a virtual environment.  These preliminary steps must be completed before going through this tutorial.  You can't complete the preliminary steps from within Jupyter because you can't enter a virtual environment in Jupyter, from Jupyter you have to switch to a kernel made from your virtual environment.\n",
    "\n",
    "First we will create and activate a virtual environment, then we will update pip and install iPython in the virtual environment, and finally we will create a kernel from the virtual environment that can be used by Jupyter.  \n",
    "\n",
    "### Create and activate a virtual environment\n",
    "\n",
    "First, open a Terminal and switch to the directory where you downloaded this notebook:\n",
    "\n",
    "    cd Desktop/netpyne_tut1\n",
    "    \n",
    "Next, create a virtual environment named \"env\":\n",
    "\n",
    "    python3 -m venv env\n",
    "    \n",
    "Check to see where you are currently running Python from:\n",
    "\n",
    "    which python3\n",
    "    \n",
    "Enter your new virtual environment:\n",
    "\n",
    "    source env/bin/activate\n",
    "    \n",
    "You should see in your prompt that you are in \"env\".  \n",
    "\n",
    "Now see where you are running Python from:\n",
    "\n",
    "    which python3\n",
    "    \n",
    "It should come from inside your new virtual environment.  Any changes we make here will only exist in the \"env\" directory that was created here.  \n",
    "\n",
    "To exit your virtual environment, enter:\n",
    "\n",
    "    deactivate\n",
    "    \n",
    "Your prompt should reflect the change.  To get back in, enter:\n",
    "\n",
    "    source env/bin/activate\n",
    "    \n",
    "### Update pip and install iPython\n",
    "\n",
    "We will now update pip and install iPython in the virtual environment.  From inside your virtual environment, enter:\n",
    "\n",
    "    python3 -m pip install --upgrade pip\n",
    "    python3 -m pip install --upgrade ipython\n",
    "    \n",
    "### Make a Jupyter kernel out of this virtual environment\n",
    "\n",
    "Now we will create a kernel that can be used by Jupyter Notebooks.  Enter:\n",
    "\n",
    "    ipython kernel install --user --name=env\n",
    "\n",
    "### Launch this notebook in Jupyter Notebook\n",
    "\n",
    "Now we will launch Jupyter from within the virtual environment.  Enter:\n",
    "\n",
    "    jupyter notebook netpyne_tut1.ipynb\n",
    "    \n",
    "This should open a web browser with Jupyter running this notebook.  From the menu bar, click on \"Kernel\", hover over \"Change kernel\" and select \"env\".  We are now operating in the virtual environment (see \"env\" in the upper right) and can install our software.\n",
    "\n",
    "### To run this again in the future\n",
    "\n",
    "Be sure to enter your virtual environment before running Jupyter!\n",
    "\n",
    "    cd Desktop/netpyne_tut1\n",
    "    source env/bin/activate\n",
    "    jupyter notebook netpyne_tut1.ipynb\n",
    "    \n",
    "And then make sure you are in the **env** kernel in Jupyter."
   ]
  },
  {
   "cell_type": "markdown",
   "metadata": {},
   "source": [
    "## Software installation\n",
    "\n",
    "Once you are in the **env** kernel in Jupyter, you can execute the following commands to install the software.  The exclamation point at the beginning means this is a command to be executed in your terminal (in your current virtual environment / kernel).  You can also execute these commands directly in your terminal, just leave off the exclamation point.\n",
    "\n",
    "First we will install NEURON.  Shift+Enter the following:"
   ]
  },
  {
   "cell_type": "code",
   "execution_count": 1,
   "metadata": {},
   "outputs": [
    {
     "name": "stdout",
     "output_type": "stream",
     "text": [
      "Requirement already up-to-date: neuron in /Users/salvadord/temp/env/lib/python3.8/site-packages (7.8.1.1)\n",
      "Requirement already satisfied, skipping upgrade: numpy>=1.9.3 in /Users/salvadord/temp/env/lib/python3.8/site-packages (from neuron) (1.19.4)\n",
      "\u001b[33mWARNING: You are using pip version 19.2.3, however version 20.3.1 is available.\n",
      "You should consider upgrading via the 'pip install --upgrade pip' command.\u001b[0m\n"
     ]
    }
   ],
   "source": [
    "!python3 -m pip install --upgrade neuron"
   ]
  },
  {
   "cell_type": "markdown",
   "metadata": {},
   "source": [
    "Now we will install NetPyNE.  Shift+Enter the following:"
   ]
  },
  {
   "cell_type": "code",
   "execution_count": 2,
   "metadata": {},
   "outputs": [
    {
     "name": "stdout",
     "output_type": "stream",
     "text": [
      "Collecting netpyne\n",
      "  Using cached https://files.pythonhosted.org/packages/55/87/e6688fc9d9f298523d2bdc1a39d421768fc4c7a075efc4d9d016297a080b/netpyne-0.9.8-py2.py3-none-any.whl\n",
      "Requirement already satisfied, skipping upgrade: future in /Users/salvadord/temp/env/lib/python3.8/site-packages (from netpyne) (0.18.2)\n",
      "Requirement already satisfied, skipping upgrade: matplotlib-scalebar in /Users/salvadord/temp/env/lib/python3.8/site-packages (from netpyne) (0.6.2)\n",
      "Requirement already satisfied, skipping upgrade: scipy in /Users/salvadord/temp/env/lib/python3.8/site-packages (from netpyne) (1.5.4)\n",
      "Requirement already satisfied, skipping upgrade: pandas in /Users/salvadord/temp/env/lib/python3.8/site-packages (from netpyne) (1.1.5)\n",
      "Requirement already satisfied, skipping upgrade: bokeh in /Users/salvadord/temp/env/lib/python3.8/site-packages (from netpyne) (2.2.3)\n",
      "Requirement already satisfied, skipping upgrade: numpy in /Users/salvadord/temp/env/lib/python3.8/site-packages (from netpyne) (1.19.4)\n",
      "Requirement already satisfied, skipping upgrade: matplotlib in /Users/salvadord/temp/env/lib/python3.8/site-packages (from netpyne) (3.3.3)\n",
      "Requirement already satisfied, skipping upgrade: python-dateutil>=2.7.3 in /Users/salvadord/temp/env/lib/python3.8/site-packages (from pandas->netpyne) (2.8.1)\n",
      "Requirement already satisfied, skipping upgrade: pytz>=2017.2 in /Users/salvadord/temp/env/lib/python3.8/site-packages (from pandas->netpyne) (2020.4)\n",
      "Requirement already satisfied, skipping upgrade: PyYAML>=3.10 in /Users/salvadord/temp/env/lib/python3.8/site-packages (from bokeh->netpyne) (5.3.1)\n",
      "Requirement already satisfied, skipping upgrade: Jinja2>=2.7 in /Users/salvadord/temp/env/lib/python3.8/site-packages (from bokeh->netpyne) (2.11.2)\n",
      "Requirement already satisfied, skipping upgrade: pillow>=7.1.0 in /Users/salvadord/temp/env/lib/python3.8/site-packages (from bokeh->netpyne) (8.0.1)\n",
      "Requirement already satisfied, skipping upgrade: packaging>=16.8 in /Users/salvadord/temp/env/lib/python3.8/site-packages (from bokeh->netpyne) (20.7)\n",
      "Requirement already satisfied, skipping upgrade: tornado>=5.1 in /Users/salvadord/temp/env/lib/python3.8/site-packages (from bokeh->netpyne) (6.1)\n",
      "Requirement already satisfied, skipping upgrade: typing_extensions>=3.7.4 in /Users/salvadord/temp/env/lib/python3.8/site-packages (from bokeh->netpyne) (3.7.4.3)\n",
      "Requirement already satisfied, skipping upgrade: pyparsing!=2.0.4,!=2.1.2,!=2.1.6,>=2.0.3 in /Users/salvadord/temp/env/lib/python3.8/site-packages (from matplotlib->netpyne) (2.4.7)\n",
      "Requirement already satisfied, skipping upgrade: kiwisolver>=1.0.1 in /Users/salvadord/temp/env/lib/python3.8/site-packages (from matplotlib->netpyne) (1.3.1)\n",
      "Requirement already satisfied, skipping upgrade: cycler>=0.10 in /Users/salvadord/temp/env/lib/python3.8/site-packages (from matplotlib->netpyne) (0.10.0)\n",
      "Requirement already satisfied, skipping upgrade: six>=1.5 in /Users/salvadord/temp/env/lib/python3.8/site-packages (from python-dateutil>=2.7.3->pandas->netpyne) (1.15.0)\n",
      "Requirement already satisfied, skipping upgrade: MarkupSafe>=0.23 in /Users/salvadord/temp/env/lib/python3.8/site-packages (from Jinja2>=2.7->bokeh->netpyne) (1.1.1)\n",
      "Installing collected packages: netpyne\n",
      "  Found existing installation: netpyne 0.9.5\n",
      "    Not uninstalling netpyne at /Users/salvadord/Documents/ISB/Models/netpyne_repo, outside environment /Users/salvadord/temp/env\n",
      "    Can't uninstall 'netpyne'. No files were found to uninstall.\n",
      "Successfully installed netpyne-0.9.8\n",
      "\u001b[33mWARNING: You are using pip version 19.2.3, however version 20.3.1 is available.\n",
      "You should consider upgrading via the 'pip install --upgrade pip' command.\u001b[0m\n"
     ]
    }
   ],
   "source": [
    "!python3 -m pip install --upgrade netpyne"
   ]
  },
  {
   "cell_type": "markdown",
   "metadata": {},
   "source": [
    "# Tutorial 1 -- a simple network with one population\n",
    "\n",
    "Now we are ready to start NetPyNE Tutorial 1, which will create a simple network model we can simulate.  We will create a fairly simple network model of 40 pyramidal-like, two-compartment neurons with standard Hodgkin-Huxley dynamics in the somas and passive dynamics in the dendrites.  We will then connect the neurons randomly with a 10% probability of connection using a standard double-exponential synapse model.  Finally, we will add a current clamp stimulus to one cell to activate the network.  Then we will explore the model."
   ]
  },
  {
   "cell_type": "markdown",
   "metadata": {},
   "source": [
    "## Instantiate network parameters and simulation configuration\n",
    "\n",
    "You need two things to define a model/simulation in NetPyNE: 1) the parameters of the network and all its components and 2) the configuration of the simulation.  These requirements exist as objects in NetPyNE.  Let's instantiate them now."
   ]
  },
  {
   "cell_type": "code",
   "execution_count": 4,
   "metadata": {
    "scrolled": true
   },
   "outputs": [
    {
     "ename": "ModuleNotFoundError",
     "evalue": "No module named 'neuron'",
     "output_type": "error",
     "traceback": [
      "\u001b[0;31m---------------------------------------------------------------------------\u001b[0m",
      "\u001b[0;31mModuleNotFoundError\u001b[0m                       Traceback (most recent call last)",
      "\u001b[0;32m<ipython-input-4-c8ef8cc2d262>\u001b[0m in \u001b[0;36m<module>\u001b[0;34m\u001b[0m\n\u001b[0;32m----> 1\u001b[0;31m \u001b[0;32mfrom\u001b[0m \u001b[0mnetpyne\u001b[0m \u001b[0;32mimport\u001b[0m \u001b[0mspecs\u001b[0m\u001b[0;34m,\u001b[0m \u001b[0msim\u001b[0m\u001b[0;34m\u001b[0m\u001b[0;34m\u001b[0m\u001b[0m\n\u001b[0m\u001b[1;32m      2\u001b[0m \u001b[0mnetParams\u001b[0m \u001b[0;34m=\u001b[0m \u001b[0mspecs\u001b[0m\u001b[0;34m.\u001b[0m\u001b[0mNetParams\u001b[0m\u001b[0;34m(\u001b[0m\u001b[0;34m)\u001b[0m\u001b[0;34m\u001b[0m\u001b[0;34m\u001b[0m\u001b[0m\n\u001b[1;32m      3\u001b[0m \u001b[0msimConfig\u001b[0m \u001b[0;34m=\u001b[0m \u001b[0mspecs\u001b[0m\u001b[0;34m.\u001b[0m\u001b[0mSimConfig\u001b[0m\u001b[0;34m(\u001b[0m\u001b[0;34m)\u001b[0m\u001b[0;34m\u001b[0m\u001b[0;34m\u001b[0m\u001b[0m\n",
      "\u001b[0;32m~/Documents/ISB/Models/netpyne_repo/netpyne/__init__.py\u001b[0m in \u001b[0;36m<module>\u001b[0;34m\u001b[0m\n\u001b[1;32m     19\u001b[0m     \u001b[0mmatplotlib\u001b[0m\u001b[0;34m.\u001b[0m\u001b[0muse\u001b[0m\u001b[0;34m(\u001b[0m\u001b[0;34m'Agg'\u001b[0m\u001b[0;34m)\u001b[0m\u001b[0;34m\u001b[0m\u001b[0;34m\u001b[0m\u001b[0m\n\u001b[1;32m     20\u001b[0m \u001b[0;34m\u001b[0m\u001b[0m\n\u001b[0;32m---> 21\u001b[0;31m \u001b[0;32mfrom\u001b[0m \u001b[0mnetpyne\u001b[0m \u001b[0;32mimport\u001b[0m \u001b[0manalysis\u001b[0m\u001b[0;34m\u001b[0m\u001b[0;34m\u001b[0m\u001b[0m\n\u001b[0m\u001b[1;32m     22\u001b[0m \u001b[0;32mfrom\u001b[0m \u001b[0mnetpyne\u001b[0m \u001b[0;32mimport\u001b[0m \u001b[0mbatch\u001b[0m\u001b[0;34m\u001b[0m\u001b[0;34m\u001b[0m\u001b[0m\n\u001b[1;32m     23\u001b[0m \u001b[0;32mfrom\u001b[0m \u001b[0mnetpyne\u001b[0m \u001b[0;32mimport\u001b[0m \u001b[0mcell\u001b[0m\u001b[0;34m\u001b[0m\u001b[0;34m\u001b[0m\u001b[0m\n",
      "\u001b[0;32m~/Documents/ISB/Models/netpyne_repo/netpyne/analysis/__init__.py\u001b[0m in \u001b[0;36m<module>\u001b[0;34m\u001b[0m\n\u001b[1;32m     35\u001b[0m \u001b[0;31m# Import spike-related functions\u001b[0m\u001b[0;34m\u001b[0m\u001b[0;34m\u001b[0m\u001b[0;34m\u001b[0m\u001b[0m\n\u001b[1;32m     36\u001b[0m \u001b[0;31m# -------------------------------------------------------------------------------------------------------------------\u001b[0m\u001b[0;34m\u001b[0m\u001b[0;34m\u001b[0m\u001b[0;34m\u001b[0m\u001b[0m\n\u001b[0;32m---> 37\u001b[0;31m \u001b[0;32mfrom\u001b[0m \u001b[0;34m.\u001b[0m\u001b[0mspikes\u001b[0m \u001b[0;32mimport\u001b[0m \u001b[0mcalculateRate\u001b[0m\u001b[0;34m,\u001b[0m \u001b[0mplotRates\u001b[0m\u001b[0;34m,\u001b[0m \u001b[0mplotSyncs\u001b[0m\u001b[0;34m,\u001b[0m \u001b[0mplotRaster\u001b[0m\u001b[0;34m,\u001b[0m \u001b[0mplotSpikeHist\u001b[0m\u001b[0;34m,\u001b[0m \u001b[0mplotSpikeStats\u001b[0m\u001b[0;34m,\u001b[0m\u001b[0;31m \u001b[0m\u001b[0;31m\\\u001b[0m\u001b[0;34m\u001b[0m\u001b[0;34m\u001b[0m\u001b[0m\n\u001b[0m\u001b[1;32m     38\u001b[0m     \u001b[0mplotRatePSD\u001b[0m\u001b[0;34m,\u001b[0m \u001b[0mplotRateSpectrogram\u001b[0m\u001b[0;34m,\u001b[0m \u001b[0mpopAvgRates\u001b[0m\u001b[0;34m,\u001b[0m \u001b[0mplotfI\u001b[0m\u001b[0;34m,\u001b[0m \u001b[0mcalculatefI\u001b[0m\u001b[0;34m\u001b[0m\u001b[0;34m\u001b[0m\u001b[0m\n\u001b[1;32m     39\u001b[0m \u001b[0;34m\u001b[0m\u001b[0m\n",
      "\u001b[0;32m~/Documents/ISB/Models/netpyne_repo/netpyne/analysis/spikes.py\u001b[0m in \u001b[0;36m<module>\u001b[0;34m\u001b[0m\n\u001b[1;32m     31\u001b[0m \u001b[0;32mimport\u001b[0m \u001b[0mpandas\u001b[0m \u001b[0;32mas\u001b[0m \u001b[0mpd\u001b[0m\u001b[0;34m\u001b[0m\u001b[0;34m\u001b[0m\u001b[0m\n\u001b[1;32m     32\u001b[0m \u001b[0;32mimport\u001b[0m \u001b[0mscipy\u001b[0m\u001b[0;34m\u001b[0m\u001b[0;34m\u001b[0m\u001b[0m\n\u001b[0;32m---> 33\u001b[0;31m \u001b[0;32mfrom\u001b[0m \u001b[0;34m.\u001b[0m\u001b[0;34m.\u001b[0m\u001b[0mspecs\u001b[0m \u001b[0;32mimport\u001b[0m \u001b[0mDict\u001b[0m\u001b[0;34m\u001b[0m\u001b[0;34m\u001b[0m\u001b[0m\n\u001b[0m\u001b[1;32m     34\u001b[0m \u001b[0;32mfrom\u001b[0m \u001b[0;34m.\u001b[0m\u001b[0mutils\u001b[0m \u001b[0;32mimport\u001b[0m \u001b[0mcolorList\u001b[0m\u001b[0;34m,\u001b[0m \u001b[0mexception\u001b[0m\u001b[0;34m,\u001b[0m \u001b[0mgetCellsInclude\u001b[0m\u001b[0;34m,\u001b[0m \u001b[0mgetSpktSpkid\u001b[0m\u001b[0;34m,\u001b[0m \u001b[0m_showFigure\u001b[0m\u001b[0;34m,\u001b[0m \u001b[0m_saveFigData\u001b[0m\u001b[0;34m,\u001b[0m \u001b[0msyncMeasure\u001b[0m\u001b[0;34m,\u001b[0m \u001b[0m_smooth1d\u001b[0m\u001b[0;34m\u001b[0m\u001b[0;34m\u001b[0m\u001b[0m\n\u001b[1;32m     35\u001b[0m \u001b[0;34m\u001b[0m\u001b[0m\n",
      "\u001b[0;32m~/Documents/ISB/Models/netpyne_repo/netpyne/specs/__init__.py\u001b[0m in \u001b[0;36m<module>\u001b[0;34m\u001b[0m\n\u001b[1;32m     12\u001b[0m \u001b[0mstandard_library\u001b[0m\u001b[0;34m.\u001b[0m\u001b[0minstall_aliases\u001b[0m\u001b[0;34m(\u001b[0m\u001b[0;34m)\u001b[0m\u001b[0;34m\u001b[0m\u001b[0;34m\u001b[0m\u001b[0m\n\u001b[1;32m     13\u001b[0m \u001b[0;32mfrom\u001b[0m \u001b[0;34m.\u001b[0m\u001b[0mdicts\u001b[0m \u001b[0;32mimport\u001b[0m \u001b[0mDict\u001b[0m\u001b[0;34m,\u001b[0m \u001b[0mODict\u001b[0m\u001b[0;34m\u001b[0m\u001b[0;34m\u001b[0m\u001b[0m\n\u001b[0;32m---> 14\u001b[0;31m \u001b[0;32mfrom\u001b[0m \u001b[0;34m.\u001b[0m\u001b[0mnetParams\u001b[0m \u001b[0;32mimport\u001b[0m \u001b[0mNetParams\u001b[0m\u001b[0;34m,\u001b[0m \u001b[0mCellParams\u001b[0m\u001b[0;34m\u001b[0m\u001b[0;34m\u001b[0m\u001b[0m\n\u001b[0m\u001b[1;32m     15\u001b[0m \u001b[0;32mfrom\u001b[0m \u001b[0;34m.\u001b[0m\u001b[0msimConfig\u001b[0m \u001b[0;32mimport\u001b[0m \u001b[0mSimConfig\u001b[0m\u001b[0;34m\u001b[0m\u001b[0;34m\u001b[0m\u001b[0m\n",
      "\u001b[0;32m~/Documents/ISB/Models/netpyne_repo/netpyne/specs/netParams.py\u001b[0m in \u001b[0;36m<module>\u001b[0;34m\u001b[0m\n\u001b[1;32m     23\u001b[0m \u001b[0;32mfrom\u001b[0m \u001b[0mcollections\u001b[0m \u001b[0;32mimport\u001b[0m \u001b[0mOrderedDict\u001b[0m\u001b[0;34m\u001b[0m\u001b[0;34m\u001b[0m\u001b[0m\n\u001b[1;32m     24\u001b[0m \u001b[0;32mfrom\u001b[0m \u001b[0;34m.\u001b[0m\u001b[0mdicts\u001b[0m \u001b[0;32mimport\u001b[0m \u001b[0mDict\u001b[0m\u001b[0;34m,\u001b[0m \u001b[0mODict\u001b[0m\u001b[0;34m\u001b[0m\u001b[0;34m\u001b[0m\u001b[0m\n\u001b[0;32m---> 25\u001b[0;31m \u001b[0;32mfrom\u001b[0m \u001b[0;34m.\u001b[0m\u001b[0;34m.\u001b[0m \u001b[0;32mimport\u001b[0m \u001b[0mconversion\u001b[0m\u001b[0;34m\u001b[0m\u001b[0;34m\u001b[0m\u001b[0m\n\u001b[0m\u001b[1;32m     26\u001b[0m \u001b[0;34m\u001b[0m\u001b[0m\n\u001b[1;32m     27\u001b[0m \u001b[0;31m# ----------------------------------------------------------------------------\u001b[0m\u001b[0;34m\u001b[0m\u001b[0;34m\u001b[0m\u001b[0;34m\u001b[0m\u001b[0m\n",
      "\u001b[0;32m~/Documents/ISB/Models/netpyne_repo/netpyne/conversion/__init__.py\u001b[0m in \u001b[0;36m<module>\u001b[0;34m\u001b[0m\n\u001b[1;32m     11\u001b[0m \u001b[0mstandard_library\u001b[0m\u001b[0;34m.\u001b[0m\u001b[0minstall_aliases\u001b[0m\u001b[0;34m(\u001b[0m\u001b[0;34m)\u001b[0m\u001b[0;34m\u001b[0m\u001b[0;34m\u001b[0m\u001b[0m\n\u001b[1;32m     12\u001b[0m \u001b[0;34m\u001b[0m\u001b[0m\n\u001b[0;32m---> 13\u001b[0;31m \u001b[0;32mfrom\u001b[0m \u001b[0;34m.\u001b[0m\u001b[0mneuronPyHoc\u001b[0m \u001b[0;32mimport\u001b[0m \u001b[0mimportCell\u001b[0m\u001b[0;34m,\u001b[0m \u001b[0mimportCellsFromNet\u001b[0m\u001b[0;34m,\u001b[0m \u001b[0mmechVarList\u001b[0m\u001b[0;34m,\u001b[0m \u001b[0mgetSecName\u001b[0m\u001b[0;34m\u001b[0m\u001b[0;34m\u001b[0m\u001b[0m\n\u001b[0m\u001b[1;32m     14\u001b[0m \u001b[0;32mfrom\u001b[0m \u001b[0;34m.\u001b[0m\u001b[0mpythonScript\u001b[0m \u001b[0;32mimport\u001b[0m \u001b[0mcreatePythonScript\u001b[0m\u001b[0;34m\u001b[0m\u001b[0;34m\u001b[0m\u001b[0m\n\u001b[1;32m     15\u001b[0m \u001b[0;32mfrom\u001b[0m \u001b[0;34m.\u001b[0m\u001b[0mexcel\u001b[0m \u001b[0;32mimport\u001b[0m \u001b[0mimportConnFromExcel\u001b[0m\u001b[0;34m\u001b[0m\u001b[0;34m\u001b[0m\u001b[0m\n",
      "\u001b[0;32m~/Documents/ISB/Models/netpyne_repo/netpyne/conversion/neuronPyHoc.py\u001b[0m in \u001b[0;36m<module>\u001b[0;34m\u001b[0m\n\u001b[1;32m     17\u001b[0m \u001b[0;32mimport\u001b[0m \u001b[0mos\u001b[0m\u001b[0;34m,\u001b[0m \u001b[0msys\u001b[0m\u001b[0;34m,\u001b[0m \u001b[0msignal\u001b[0m\u001b[0;34m\u001b[0m\u001b[0;34m\u001b[0m\u001b[0m\n\u001b[1;32m     18\u001b[0m \u001b[0;32mfrom\u001b[0m \u001b[0mnumbers\u001b[0m \u001b[0;32mimport\u001b[0m \u001b[0mNumber\u001b[0m\u001b[0;34m\u001b[0m\u001b[0;34m\u001b[0m\u001b[0m\n\u001b[0;32m---> 19\u001b[0;31m \u001b[0;32mfrom\u001b[0m \u001b[0mneuron\u001b[0m \u001b[0;32mimport\u001b[0m \u001b[0mh\u001b[0m\u001b[0;34m\u001b[0m\u001b[0;34m\u001b[0m\u001b[0m\n\u001b[0m\u001b[1;32m     20\u001b[0m \u001b[0;32mimport\u001b[0m \u001b[0mimportlib\u001b[0m\u001b[0;34m\u001b[0m\u001b[0;34m\u001b[0m\u001b[0m\n\u001b[1;32m     21\u001b[0m \u001b[0;34m\u001b[0m\u001b[0m\n",
      "\u001b[0;31mModuleNotFoundError\u001b[0m: No module named 'neuron'"
     ]
    }
   ],
   "source": [
    "from netpyne import specs, sim\n",
    "netParams = specs.NetParams()\n",
    "simConfig = specs.SimConfig()"
   ]
  },
  {
   "cell_type": "markdown",
   "metadata": {},
   "source": [
    "The following command plots all figures directly in this notebook:"
   ]
  },
  {
   "cell_type": "code",
   "execution_count": null,
   "metadata": {},
   "outputs": [],
   "source": [
    "%matplotlib inline"
   ]
  },
  {
   "cell_type": "markdown",
   "metadata": {},
   "source": [
    "These NetPyNE objects come with a lot of defaults set which you can explore with tab completion, but we'll focus on that more later.\n",
    "\n",
    "We are going to plunge ahead and build our model: a simple network of 40 pyramidal-like two-compartment neurons with standard Hodgkin-Huxley dynamics in the soma and passive dynamics in the dendrite.  \n",
    "\n",
    "## Create a cell model\n",
    "\n",
    "First we will add a cell type to our model by adding a dictionary named **pyr** to the *Cell Parameters* dictionary (**cellParams**) in the *Network Parameters* dictionary (**netParams**).  We will then add an empty dictionary named **secs** to hold our compartments."
   ]
  },
  {
   "cell_type": "code",
   "execution_count": null,
   "metadata": {},
   "outputs": [],
   "source": [
    "netParams.cellParams['pyr'] = {}\n",
    "netParams.cellParams['pyr']['secs'] = {}"
   ]
  },
  {
   "cell_type": "markdown",
   "metadata": {},
   "source": [
    "### Specify the soma compartment properties\n",
    "\n",
    "Now we will define our **soma**, by adding a **geom** dictionary defining the geometry of the soma and a **mechs** dictionary defining the biophysical mechanics being added to the soma."
   ]
  },
  {
   "cell_type": "code",
   "execution_count": null,
   "metadata": {},
   "outputs": [],
   "source": [
    "netParams.cellParams['pyr']['secs']['soma'] = {}"
   ]
  },
  {
   "cell_type": "code",
   "execution_count": null,
   "metadata": {},
   "outputs": [],
   "source": [
    "netParams.cellParams['pyr']['secs']['soma']['geom'] = {\n",
    "    \"diam\": 12,\n",
    "    \"L\": 12,\n",
    "    \"Ra\": 100.0,\n",
    "    \"cm\": 1\n",
    "    }"
   ]
  },
  {
   "cell_type": "code",
   "execution_count": null,
   "metadata": {},
   "outputs": [],
   "source": [
    "netParams.cellParams['pyr']['secs']['soma']['mechs'] = {\"hh\": {\n",
    "    \"gnabar\": 0.12,\n",
    "    \"gkbar\": 0.036,\n",
    "    \"gl\": 0.0003,\n",
    "    \"el\": -54.3\n",
    "    }}"
   ]
  },
  {
   "cell_type": "markdown",
   "metadata": {},
   "source": [
    "### Specify the dendrite compartment properties\n",
    "\n",
    "Next will do the same thing for the dendrite compartment, but we will do it slightly differently.  We will first build up a **dend** dictionary and then add it to the cell model dictionary **pyr** when we are done."
   ]
  },
  {
   "cell_type": "code",
   "execution_count": null,
   "metadata": {},
   "outputs": [],
   "source": [
    "dend = {'geom': {}, 'mechs': {}, 'topol': {}}"
   ]
  },
  {
   "cell_type": "code",
   "execution_count": null,
   "metadata": {},
   "outputs": [],
   "source": [
    "dend['geom'] = {\"diam\": 1.0,\n",
    "                \"L\": 200.0,\n",
    "                \"Ra\": 100.0,\n",
    "                \"cm\": 1,\n",
    "               }"
   ]
  },
  {
   "cell_type": "code",
   "execution_count": null,
   "metadata": {},
   "outputs": [],
   "source": [
    "dend['mechs'] = {\"pas\": \n",
    "                    {\"g\": 0.001,\n",
    "                     \"e\": -70}\n",
    "                }"
   ]
  },
  {
   "cell_type": "markdown",
   "metadata": {},
   "source": [
    "In order to connect the dendrite compartment to the soma compartment, we must add a **topol** dictionary to our **dend** dictionary."
   ]
  },
  {
   "cell_type": "code",
   "execution_count": null,
   "metadata": {},
   "outputs": [],
   "source": [
    "dend['topol'] = {\"parentSec\": \"soma\",\n",
    "                 \"parentX\": 1.0,\n",
    "                 \"childX\": 0,\n",
    "                }"
   ]
  },
  {
   "cell_type": "markdown",
   "metadata": {},
   "source": [
    "With our **dend** section dictionary complete, we must now add it to the **pyr** cell dictionary."
   ]
  },
  {
   "cell_type": "code",
   "execution_count": null,
   "metadata": {},
   "outputs": [],
   "source": [
    "netParams.cellParams['pyr']['secs']['dend'] = dend"
   ]
  },
  {
   "cell_type": "markdown",
   "metadata": {},
   "source": [
    "Our two-compartment cell model is now completely specified.  Note that the *hh* and *pas* mechanisms we specified above are builtin to NEURON.  Our next step is to create a population of these cells.\n",
    "\n",
    "## Create a population of cells\n",
    "\n",
    "NetPyNE uses *populations* of cells to specify connectivity.  In this tutorial, we will create just one population which we will call **E** (for excitatory).  It will be made of the **pyr** cells we just specified, and we want 40 of them."
   ]
  },
  {
   "cell_type": "code",
   "execution_count": null,
   "metadata": {},
   "outputs": [],
   "source": [
    "netParams.popParams['E'] = {\n",
    "    \"cellType\": \"pyr\",\n",
    "    \"numCells\": 40,\n",
    "}"
   ]
  },
  {
   "cell_type": "markdown",
   "metadata": {},
   "source": [
    "## Create a synaptic model\n",
    "\n",
    "We need a synaptic mechanism to connect our cells with.  We will create one called **exc** by adding a dictionary to the *synaptic mechanism parameters* dictionary (**synMechParams**).  The synapse *mod* used (**Exp2Syn**) is a simple double-exponential which is builtin to NEURON."
   ]
  },
  {
   "cell_type": "code",
   "execution_count": null,
   "metadata": {},
   "outputs": [],
   "source": [
    "netParams.synMechParams['exc'] = {\n",
    "    \"mod\": \"Exp2Syn\",\n",
    "    \"tau1\": 0.1,\n",
    "    \"tau2\": 1.0,\n",
    "    \"e\": 0\n",
    "}"
   ]
  },
  {
   "cell_type": "markdown",
   "metadata": {},
   "source": [
    "## Connect the cells\n",
    "\n",
    "Now we will specify the connectivity in our model by adding a dictionary to the **connParams** dictionary.  We will call our connectivity rule **E->E** as it will define connectivity from our **E** population to our **E** population.\n",
    "\n",
    "We will use the *synMech* **exc**, which we defined above.  For this synaptic mechanism, a *weight* of about **0.005** is appropriate.  These cells will have a 10% probability of getting connected, and will be activated five milliseconds after an action potential occurs in the presynaptic cell.  Synapses will occur on the **dend** *section* at its very end (*location* **1.0**)"
   ]
  },
  {
   "cell_type": "code",
   "execution_count": null,
   "metadata": {},
   "outputs": [],
   "source": [
    "netParams.connParams['E->E'] = {\n",
    "    \"preConds\": {\n",
    "        \"pop\": \"E\",\n",
    "    },\n",
    "    \"postConds\": {\n",
    "        \"pop\": \"E\",\n",
    "    },\n",
    "    \"weight\": 0.005,\n",
    "    \"probability\": 0.1,\n",
    "    \"delay\": 5.0,\n",
    "    \"synMech\": \"exc\",\n",
    "    \"sec\": \"dend\",\n",
    "    \"loc\": 1.0,\n",
    "}"
   ]
  },
  {
   "cell_type": "markdown",
   "metadata": {},
   "source": [
    "## Set up the simulation configuration"
   ]
  },
  {
   "cell_type": "code",
   "execution_count": null,
   "metadata": {},
   "outputs": [],
   "source": [
    "simConfig.duration = 200.0\n",
    "simConfig.dt = 0.1\n",
    "simConfig.recordCells = [0]\n",
    "simConfig.recordTraces = {\n",
    "    \"V_soma\": {\n",
    "        \"sec\": \"soma\",\n",
    "        \"loc\": 0.5,\n",
    "        \"var\": \"v\",\n",
    "    },\n",
    "    \"V_dend\": {\n",
    "        \"sec\": \"dend\",\n",
    "        \"loc\": 1.0,\n",
    "        \"var\": \"v\",\n",
    "    }\n",
    "}\n",
    "simConfig.filename = \"netpyne_tut1\"\n",
    "simConfig.analysis = {\n",
    "    \"plotTraces\": {\n",
    "        \"include\": [0],\n",
    "        \"overlay\": True,\n",
    "        \"showFig\": False,\n",
    "        \"saveFig\": True,\n",
    "    },\n",
    "    \"plotRaster\": {\n",
    "        \"markerSize\": 5,\n",
    "        \"showFig\": False,\n",
    "        \"saveFig\": True,\n",
    "    }\n",
    "}"
   ]
  },
  {
   "cell_type": "markdown",
   "metadata": {},
   "source": [
    "## Create, simulate, and analyze the model\n",
    "\n",
    "Use one simple command to create, simulate, and analyze the model."
   ]
  },
  {
   "cell_type": "code",
   "execution_count": null,
   "metadata": {},
   "outputs": [],
   "source": [
    "sim.createSimulateAnalyze(netParams=netParams, simConfig=simConfig)"
   ]
  },
  {
   "cell_type": "code",
   "execution_count": null,
   "metadata": {},
   "outputs": [],
   "source": []
  },
  {
   "cell_type": "markdown",
   "metadata": {},
   "source": [
    "### Plot the 2D connectivity of the network"
   ]
  },
  {
   "cell_type": "code",
   "execution_count": null,
   "metadata": {},
   "outputs": [],
   "source": [
    "fig, figData = sim.analysis.plot2Dnet()"
   ]
  },
  {
   "cell_type": "markdown",
   "metadata": {},
   "source": [
    "### Plot the connectivity matrix"
   ]
  },
  {
   "cell_type": "code",
   "execution_count": null,
   "metadata": {},
   "outputs": [],
   "source": [
    "fig, figData = sim.analysis.plotConn()"
   ]
  },
  {
   "cell_type": "code",
   "execution_count": null,
   "metadata": {},
   "outputs": [],
   "source": []
  },
  {
   "cell_type": "markdown",
   "metadata": {},
   "source": [
    "## Add a stimulation\n",
    "\n",
    "We'll need to kickstart this network -- let's inject current into one of the cells.  First we need to add a dictionary to the *Stimulation Source Parameters* dictionary (**stimSourceParams**).  We'll call our stimulation **IClamp1**, and we'll use the standard NEURON *type*: **IClamp**.  The current injection will last for a *duration* of 20 ms, it will start at a *delay* of 5 ms, and it will have an *amplitude* of 0.1 nanoAmps. "
   ]
  },
  {
   "cell_type": "code",
   "execution_count": null,
   "metadata": {},
   "outputs": [],
   "source": [
    "netParams.stimSourceParams['IClamp1'] = {\n",
    "    \"type\": \"IClamp\",\n",
    "    \"dur\": 5,\n",
    "    \"del\": 20,\n",
    "    \"amp\": 0.1,\n",
    "}"
   ]
  },
  {
   "cell_type": "markdown",
   "metadata": {},
   "source": [
    "Now we need to add a target for our stimulation.  We do that by adding a dictionary to the *Stimulation Target Parameters* dictionary (**stimTargetParams**).  We'll call this connectivity rule **IClamp1->cell0**, because it will go from the source we just created (**IClamp1**) and the first cell in our population.  The stimulation (current injection in this case) will occur in our **dend** *section* at the very tip (*location* of **1.0**)."
   ]
  },
  {
   "cell_type": "code",
   "execution_count": null,
   "metadata": {},
   "outputs": [],
   "source": [
    "netParams.stimTargetParams['IClamp1->cell0'] = {\n",
    "    \"source\": \"IClamp1\",\n",
    "    \"conds\": {\n",
    "        \"cellList\": [0]\n",
    "    },\n",
    "    \"sec\": \"dend\",\n",
    "    \"loc\": 1.0,\n",
    "}"
   ]
  },
  {
   "cell_type": "markdown",
   "metadata": {},
   "source": [
    "## Create, simulate, and analyze the model\n"
   ]
  },
  {
   "cell_type": "code",
   "execution_count": null,
   "metadata": {},
   "outputs": [],
   "source": [
    "sim.createSimulateAnalyze(netParams=netParams, simConfig=simConfig)"
   ]
  },
  {
   "cell_type": "markdown",
   "metadata": {},
   "source": [
    "### Plot the connectivity matrix"
   ]
  },
  {
   "cell_type": "code",
   "execution_count": null,
   "metadata": {},
   "outputs": [],
   "source": [
    "fig, figData = sim.analysis.plotConn()"
   ]
  },
  {
   "cell_type": "code",
   "execution_count": null,
   "metadata": {},
   "outputs": [],
   "source": []
  },
  {
   "cell_type": "code",
   "execution_count": null,
   "metadata": {},
   "outputs": [],
   "source": []
  },
  {
   "cell_type": "markdown",
   "metadata": {},
   "source": [
    "## Record and plot a variety of traces"
   ]
  },
  {
   "cell_type": "markdown",
   "metadata": {},
   "source": [
    "### Record and plot the somatic conductances\n",
    "\n",
    "Let's record and plot the somatic conductances.  \n",
    "HH mod is here: https://github.com/neuronsimulator/nrn/blob/master/src/nrnoc/hh.mod\n",
    "Passive mod is here: https://github.com/neuronsimulator/nrn/blob/master/src/nrnoc/passive.mod"
   ]
  },
  {
   "cell_type": "code",
   "execution_count": null,
   "metadata": {},
   "outputs": [],
   "source": []
  },
  {
   "cell_type": "code",
   "execution_count": null,
   "metadata": {},
   "outputs": [],
   "source": [
    "simConfig.recordTraces['gNa'] = {'sec': 'soma', 'loc': 0.5, 'mech': 'hh', 'var': 'gna'}"
   ]
  },
  {
   "cell_type": "code",
   "execution_count": null,
   "metadata": {},
   "outputs": [],
   "source": [
    "simConfig.recordTraces['gK'] = {'sec': 'soma', 'loc': 0.5, 'mech': 'hh', 'var': 'gk'}"
   ]
  },
  {
   "cell_type": "code",
   "execution_count": null,
   "metadata": {},
   "outputs": [],
   "source": [
    "simConfig.recordTraces['gL'] = {'sec': 'soma', 'loc': 0.5, 'mech': 'hh', 'var': 'gl'}"
   ]
  },
  {
   "cell_type": "code",
   "execution_count": null,
   "metadata": {},
   "outputs": [],
   "source": [
    "del simConfig.recordTraces['V_soma']"
   ]
  },
  {
   "cell_type": "code",
   "execution_count": null,
   "metadata": {},
   "outputs": [],
   "source": [
    "del simConfig.recordTraces['V_dend']"
   ]
  },
  {
   "cell_type": "code",
   "execution_count": null,
   "metadata": {},
   "outputs": [],
   "source": [
    "sim.createSimulateAnalyze(netParams=netParams, simConfig=simConfig)"
   ]
  },
  {
   "cell_type": "code",
   "execution_count": null,
   "metadata": {},
   "outputs": [],
   "source": [
    "simConfig.recordTraces"
   ]
  },
  {
   "cell_type": "markdown",
   "metadata": {},
   "source": [
    "### Record all somatic currents"
   ]
  },
  {
   "cell_type": "code",
   "execution_count": null,
   "metadata": {},
   "outputs": [],
   "source": []
  },
  {
   "cell_type": "markdown",
   "metadata": {},
   "source": [
    "### Record from a synapse"
   ]
  },
  {
   "cell_type": "code",
   "execution_count": null,
   "metadata": {},
   "outputs": [],
   "source": []
  },
  {
   "cell_type": "markdown",
   "metadata": {},
   "source": [
    "### Record ionic concentratins"
   ]
  },
  {
   "cell_type": "code",
   "execution_count": null,
   "metadata": {},
   "outputs": [],
   "source": [
    "#cfg.recordTraces = {'ca': {'sec': 'soma', 'loc': 0.5, 'var': 'cai'},"
   ]
  },
  {
   "cell_type": "code",
   "execution_count": null,
   "metadata": {},
   "outputs": [],
   "source": []
  },
  {
   "cell_type": "markdown",
   "metadata": {},
   "source": [
    "## Access and manipulate data"
   ]
  },
  {
   "cell_type": "code",
   "execution_count": 5,
   "metadata": {},
   "outputs": [
    {
     "name": "stdout",
     "output_type": "stream",
     "text": [
      "/Users/salvadord/temp/env/bin/nrnivmodl\r\n"
     ]
    }
   ],
   "source": [
    "!which nrnivmodl"
   ]
  },
  {
   "cell_type": "code",
   "execution_count": null,
   "metadata": {},
   "outputs": [],
   "source": []
  },
  {
   "cell_type": "code",
   "execution_count": null,
   "metadata": {},
   "outputs": [],
   "source": []
  },
  {
   "cell_type": "code",
   "execution_count": null,
   "metadata": {},
   "outputs": [],
   "source": []
  },
  {
   "cell_type": "code",
   "execution_count": null,
   "metadata": {},
   "outputs": [],
   "source": []
  },
  {
   "cell_type": "code",
   "execution_count": null,
   "metadata": {},
   "outputs": [],
   "source": []
  },
  {
   "cell_type": "code",
   "execution_count": null,
   "metadata": {},
   "outputs": [],
   "source": []
  },
  {
   "cell_type": "code",
   "execution_count": null,
   "metadata": {},
   "outputs": [],
   "source": []
  },
  {
   "cell_type": "code",
   "execution_count": null,
   "metadata": {},
   "outputs": [],
   "source": []
  }
 ],
 "metadata": {
  "kernelspec": {
   "display_name": "env",
   "language": "python",
   "name": "env"
  },
  "language_info": {
   "codemirror_mode": {
    "name": "ipython",
    "version": 3
   },
   "file_extension": ".py",
   "mimetype": "text/x-python",
   "name": "python",
   "nbconvert_exporter": "python",
   "pygments_lexer": "ipython3",
   "version": "3.8.3"
  }
 },
 "nbformat": 4,
 "nbformat_minor": 4
}
