{
 "cells": [
  {
   "cell_type": "markdown",
   "metadata": {},
   "source": [
    "# Running NetPyNE in a Jupyter Notebook\n",
    "\n",
    "## Preliminaries\n",
    "\n",
    "We don't want to affect your system in any way, so we will operate from a virtual environment.  These preliminary steps must be completed before going through this tutorial.  You can't complete the preliminary steps from within Jupyter because you can't enter a virtual environment in Jupyter, from Jupyter you have to switch to a kernel made from your virtual environment.\n",
    "\n",
    "First we will create and activate a virtual environment, then we will update pip and install iPython in the virtual environment, and finally we will create a kernel from the virtual environment that can be used by Jupyter.  \n",
    "\n",
    "### Create and activate a virtual environment\n",
    "\n",
    "First, open a Terminal and switch to the directory where you downloaded this notebook:\n",
    "\n",
    "    cd Desktop/netpyne_tut1\n",
    "    \n",
    "Next, create a virtual environment named \"env\":\n",
    "\n",
    "    python3 -m venv env\n",
    "    \n",
    "Check to see where you are currently running Python from:\n",
    "\n",
    "    which python3\n",
    "    \n",
    "Enter your new virtual environment:\n",
    "\n",
    "    source env/bin/activate\n",
    "    \n",
    "You should see in your prompt that you are in \"env\".  \n",
    "\n",
    "Now see where you are running Python from:\n",
    "\n",
    "    which python3\n",
    "    \n",
    "It should come from inside your new virtual environment.  Any changes we make here will only exist in the \"env\" directory that was created here.  \n",
    "\n",
    "To exit your virtual environment, enter:\n",
    "\n",
    "    deactivate\n",
    "    \n",
    "Your prompt should reflect the change.  To get back in, enter:\n",
    "\n",
    "    source env/bin/activate\n",
    "    \n",
    "### Update pip and install iPython\n",
    "\n",
    "We will now update pip and install iPython in the virtual environment.  From inside your virtual environment, enter:\n",
    "\n",
    "    python3 -m pip install --upgrade pip\n",
    "    python3 -m pip install --upgrade ipython\n",
    "    \n",
    "### Make a Jupyter kernel out of this virtual environment\n",
    "\n",
    "Now we will create a kernel that can be used by Jupyter Notebooks.  Enter:\n",
    "\n",
    "    ipython kernel install --user --name=env\n",
    "\n",
    "### Launch this notebook in Jupyter Notebook\n",
    "\n",
    "Now we will launch Jupyter from within the virtual environment.  Enter:\n",
    "\n",
    "    jupyter notebook netpyne_tut1.ipynb\n",
    "    \n",
    "This should open a web browser with Jupyter running this notebook.  From the menu bar, click on **Kernel**, hover over **Change kernel** and select **env**.  We are now operating in the virtual environment (see *env* in the upper right) and we can install our software.\n",
    "\n",
    "### To run this again in the future\n",
    "\n",
    "Be sure to enter your virtual environment before running Jupyter!\n",
    "\n",
    "    cd Desktop/netpyne_tut1\n",
    "    source env/bin/activate\n",
    "    jupyter notebook netpyne_tut1.ipynb\n",
    "    \n",
    "And then make sure you are in the **env** kernel in Jupyter."
   ]
  },
  {
   "cell_type": "markdown",
   "metadata": {},
   "source": [
    "## Software installation\n",
    "\n",
    "Once you are in the **env** kernel in Jupyter, you can execute the following commands to install the software.  The exclamation point at the beginning means this is a command to be executed in your terminal (in your current virtual environment / kernel).  You can also execute these commands directly in your terminal, just leave off the exclamation point.\n",
    "\n",
    "First we will install NEURON.  Shift+Enter the following:"
   ]
  },
  {
   "cell_type": "code",
   "execution_count": null,
   "metadata": {},
   "outputs": [],
   "source": [
    "!python3 -m pip install --upgrade neuron"
   ]
  },
  {
   "cell_type": "markdown",
   "metadata": {},
   "source": [
    "Now we will install NetPyNE.  Shift+Enter the following:"
   ]
  },
  {
   "cell_type": "code",
   "execution_count": null,
   "metadata": {},
   "outputs": [],
   "source": [
    "!python3 -m pip install --upgrade netpyne"
   ]
  },
  {
   "cell_type": "markdown",
   "metadata": {},
   "source": [
    "# Tutorial 1 -- a simple network with one population\n",
    "\n",
    "Now we are ready to start NetPyNE Tutorial 1, which will create a simple network model we can simulate.  We will create a fairly simple network model of 40 pyramidal-like, two-compartment neurons with standard Hodgkin-Huxley dynamics in the somas and passive dynamics in the dendrites.  We will then connect the neurons randomly with a 10% probability of connection using a standard double-exponential synapse model.  Finally, we will add a current clamp stimulus to one cell to activate the network.  Then we will explore the model."
   ]
  },
  {
   "cell_type": "markdown",
   "metadata": {},
   "source": [
    "## Instantiate network parameters and simulation configuration\n",
    "\n",
    "You need two things to define a model/simulation in NetPyNE: 1) the parameters of the network and all its components (**netParams**) and 2) the configuration of the simulation (**simConfig** or **cfg**).  These requirements exist as objects in NetPyNE.  Let's instantiate them now."
   ]
  },
  {
   "cell_type": "code",
   "execution_count": null,
   "metadata": {},
   "outputs": [],
   "source": [
    "from netpyne import specs, sim\n",
    "netParams = specs.NetParams()\n",
    "simConfig = specs.SimConfig()"
   ]
  },
  {
   "cell_type": "markdown",
   "metadata": {},
   "source": [
    "The following command plots all figures directly in this notebook:"
   ]
  },
  {
   "cell_type": "code",
   "execution_count": null,
   "metadata": {},
   "outputs": [],
   "source": [
    "%matplotlib inline"
   ]
  },
  {
   "cell_type": "markdown",
   "metadata": {},
   "source": [
    "These NetPyNE objects come with a lot of defaults set which you can explore with tab completion, but we'll focus on that more later.\n",
    "\n",
    "We are going to plunge ahead and build our model: a simple network of 40 pyramidal-like two-compartment neurons with standard Hodgkin-Huxley dynamics in the soma and passive dynamics in the dendrite.  \n",
    "\n",
    "## Create a cell model\n",
    "\n",
    "First we will add a cell type to our model by adding a dictionary named **pyr** to the *Cell Parameters* dictionary (**cellParams**) in the *Network Parameters* dictionary (**netParams**).  We will then add an empty dictionary named **secs** to hold our compartments."
   ]
  },
  {
   "cell_type": "code",
   "execution_count": null,
   "metadata": {},
   "outputs": [],
   "source": [
    "netParams.cellParams['pyr'] = {}\n",
    "netParams.cellParams['pyr']['secs'] = {}"
   ]
  },
  {
   "cell_type": "markdown",
   "metadata": {},
   "source": [
    "### Specify the soma compartment properties\n",
    "\n",
    "Now we will define our **soma**, by adding a **geom** dictionary defining the geometry of the soma and a **mechs** dictionary defining the biophysical mechanics being added to the soma.  The **hh** mechanism is builtin to NEURON and its *.mod* file is available here: https://github.com/neuronsimulator/nrn/blob/master/src/nrnoc/hh.mod"
   ]
  },
  {
   "cell_type": "code",
   "execution_count": null,
   "metadata": {},
   "outputs": [],
   "source": [
    "netParams.cellParams['pyr']['secs']['soma'] = {}"
   ]
  },
  {
   "cell_type": "code",
   "execution_count": null,
   "metadata": {},
   "outputs": [],
   "source": [
    "netParams.cellParams['pyr']['secs']['soma']['geom'] = {\n",
    "    \"diam\": 12,\n",
    "    \"L\": 12,\n",
    "    \"Ra\": 100.0,\n",
    "    \"cm\": 1\n",
    "    }"
   ]
  },
  {
   "cell_type": "code",
   "execution_count": null,
   "metadata": {},
   "outputs": [],
   "source": [
    "netParams.cellParams['pyr']['secs']['soma']['mechs'] = {\"hh\": {\n",
    "    \"gnabar\": 0.12,\n",
    "    \"gkbar\": 0.036,\n",
    "    \"gl\": 0.0003,\n",
    "    \"el\": -54.3\n",
    "    }}"
   ]
  },
  {
   "cell_type": "markdown",
   "metadata": {},
   "source": [
    "### Specify the dendrite compartment properties\n",
    "\n",
    "Next will do the same thing for the dendrite compartment, but we will do it slightly differently.  We will first build up a **dend** dictionary and then add it to the cell model dictionary **pyr** when we are done.  The passive leak **pas** mechanism is builtin to NEURON and its *.mod* file is available here: https://github.com/neuronsimulator/nrn/blob/master/src/nrnoc/passive.mod"
   ]
  },
  {
   "cell_type": "code",
   "execution_count": null,
   "metadata": {},
   "outputs": [],
   "source": [
    "dend = {'geom': {}, 'mechs': {}, 'topol': {}}"
   ]
  },
  {
   "cell_type": "code",
   "execution_count": null,
   "metadata": {},
   "outputs": [],
   "source": [
    "dend['geom'] = {\"diam\": 1.0,\n",
    "                \"L\": 200.0,\n",
    "                \"Ra\": 100.0,\n",
    "                \"cm\": 1,\n",
    "               }"
   ]
  },
  {
   "cell_type": "code",
   "execution_count": null,
   "metadata": {},
   "outputs": [],
   "source": [
    "dend['mechs'] = {\"pas\": \n",
    "                    {\"g\": 0.001,\n",
    "                     \"e\": -70}\n",
    "                }"
   ]
  },
  {
   "cell_type": "markdown",
   "metadata": {},
   "source": [
    "In order to connect the dendrite compartment to the soma compartment, we must add a **topol** dictionary to our **dend** dictionary."
   ]
  },
  {
   "cell_type": "code",
   "execution_count": null,
   "metadata": {},
   "outputs": [],
   "source": [
    "dend['topol'] = {\"parentSec\": \"soma\",\n",
    "                 \"parentX\": 1.0,\n",
    "                 \"childX\": 0,\n",
    "                }"
   ]
  },
  {
   "cell_type": "markdown",
   "metadata": {},
   "source": [
    "With our **dend** section dictionary complete, we must now add it to the **pyr** cell dictionary."
   ]
  },
  {
   "cell_type": "code",
   "execution_count": null,
   "metadata": {},
   "outputs": [],
   "source": [
    "netParams.cellParams['pyr']['secs']['dend'] = dend"
   ]
  },
  {
   "cell_type": "markdown",
   "metadata": {},
   "source": [
    "Our two-compartment cell model is now completely specified.  Our next step is to create a population of these cells.\n",
    "\n",
    "## Create a population of cells\n",
    "\n",
    "NetPyNE uses *populations* of cells to specify connectivity.  In this tutorial, we will create just one population which we will call **E** (for excitatory).  It will be made of the **pyr** cells we just specified, and we want 40 of them."
   ]
  },
  {
   "cell_type": "code",
   "execution_count": null,
   "metadata": {},
   "outputs": [],
   "source": [
    "netParams.popParams['E'] = {\n",
    "    \"cellType\": \"pyr\",\n",
    "    \"numCells\": 40,\n",
    "}"
   ]
  },
  {
   "cell_type": "markdown",
   "metadata": {},
   "source": [
    "## Create a synaptic model\n",
    "\n",
    "We need a synaptic mechanism to connect our cells with.  We will create one called **exc** by adding a dictionary to the *synaptic mechanism parameters* dictionary (**synMechParams**).  The synapse *mod* used (**Exp2Syn**) is a simple double-exponential which is builtin to NEURON (https://github.com/neuronsimulator/nrn/blob/master/src/nrnoc/exp2syn.mod)."
   ]
  },
  {
   "cell_type": "code",
   "execution_count": null,
   "metadata": {},
   "outputs": [],
   "source": [
    "netParams.synMechParams['exc'] = {\n",
    "    \"mod\": \"Exp2Syn\",\n",
    "    \"tau1\": 0.1,\n",
    "    \"tau2\": 1.0,\n",
    "    \"e\": 0\n",
    "}"
   ]
  },
  {
   "cell_type": "markdown",
   "metadata": {},
   "source": [
    "## Connect the cells\n",
    "\n",
    "Now we will specify the connectivity in our model by adding a dictionary to the **connParams** dictionary.  We will call our connectivity rule **E->E** as it will define connectivity from our **E** population to our **E** population.\n",
    "\n",
    "We will use the *synMech* **exc**, which we defined above.  For this synaptic mechanism, a *weight* of about **0.005** is appropriate.  These cells will have a 10% probability of getting connected, and will be activated five milliseconds after an action potential occurs in the presynaptic cell.  Synapses will occur on the **dend** *section* at its very end (*location* **1.0**)"
   ]
  },
  {
   "cell_type": "code",
   "execution_count": null,
   "metadata": {},
   "outputs": [],
   "source": [
    "netParams.connParams['E->E'] = {\n",
    "    \"preConds\": {\n",
    "        \"pop\": \"E\",\n",
    "    },\n",
    "    \"postConds\": {\n",
    "        \"pop\": \"E\",\n",
    "    },\n",
    "    \"weight\": 0.005,\n",
    "    \"probability\": 0.1,\n",
    "    \"delay\": 5.0,\n",
    "    \"synMech\": \"exc\",\n",
    "    \"sec\": \"dend\",\n",
    "    \"loc\": 1.0,\n",
    "}"
   ]
  },
  {
   "cell_type": "markdown",
   "metadata": {},
   "source": [
    "## Set up the simulation configuration"
   ]
  },
  {
   "cell_type": "code",
   "execution_count": null,
   "metadata": {},
   "outputs": [],
   "source": [
    "simConfig.filename = \"netpyne_tut1\"\n",
    "simConfig.duration = 200.0\n",
    "simConfig.dt = 0.1\n",
    "\n",
    "simConfig.recordCells = [0]\n",
    "simConfig.recordTraces = {\n",
    "    \"V_soma\": {\n",
    "        \"sec\": \"soma\",\n",
    "        \"loc\": 0.5,\n",
    "        \"var\": \"v\",\n",
    "    },\n",
    "    \"V_dend\": {\n",
    "        \"sec\": \"dend\",\n",
    "        \"loc\": 1.0,\n",
    "        \"var\": \"v\",\n",
    "    }\n",
    "}\n",
    "\n",
    "simConfig.analysis = {\n",
    "    #\"plotTraces\": {\n",
    "    #    \"include\": [0],\n",
    "    #    \"overlay\": True,\n",
    "    #    \"saveFig\": True,\n",
    "    #},\n",
    "    #\"plotRaster\": {\n",
    "    #    \"markerSize\": 5,\n",
    "    #    \"saveFig\": True,\n",
    "    #}\n",
    "}"
   ]
  },
  {
   "cell_type": "markdown",
   "metadata": {},
   "source": [
    "## Create, simulate, and analyze the model\n",
    "\n",
    "Use one simple command to create, simulate, and analyze the model."
   ]
  },
  {
   "cell_type": "code",
   "execution_count": null,
   "metadata": {},
   "outputs": [],
   "source": [
    "sim.createSimulateAnalyze(netParams=netParams, simConfig=simConfig)"
   ]
  },
  {
   "cell_type": "markdown",
   "metadata": {},
   "source": [
    "### Plot the recorded traces\n",
    "\n",
    "We can see there were zero spikes, so we can't even plot a raster.  But we can take a look at the voltage traces."
   ]
  },
  {
   "cell_type": "code",
   "execution_count": null,
   "metadata": {},
   "outputs": [],
   "source": [
    "fig, figData = sim.analysis.plotTraces()"
   ]
  },
  {
   "cell_type": "markdown",
   "metadata": {},
   "source": [
    "### Plot the 2D connectivity of the network\n",
    "\n",
    "We can also look at the network connectivity."
   ]
  },
  {
   "cell_type": "code",
   "execution_count": null,
   "metadata": {},
   "outputs": [],
   "source": [
    "fig, figData = sim.analysis.plot2Dnet()"
   ]
  },
  {
   "cell_type": "markdown",
   "metadata": {},
   "source": [
    "### Plot the connectivity matrix\n",
    "\n",
    "With only one population, the connectivity matrix is pretty boring, but we can take a look."
   ]
  },
  {
   "cell_type": "code",
   "execution_count": null,
   "metadata": {},
   "outputs": [],
   "source": [
    "fig, figData = sim.analysis.plotConn()"
   ]
  },
  {
   "cell_type": "markdown",
   "metadata": {},
   "source": [
    "## Add a stimulation\n",
    "\n",
    "We'll need to kickstart this network -- let's inject current into one of the cells.  First we need to add a dictionary to the *Stimulation Source Parameters* dictionary (**stimSourceParams**).  We'll call our stimulation **IClamp1**, and we'll use the standard NEURON *type*: **IClamp**.  The current injection will last for a *duration* of 20 ms, it will start at a *delay* of 5 ms, and it will have an *amplitude* of 0.1 nanoAmps. "
   ]
  },
  {
   "cell_type": "code",
   "execution_count": null,
   "metadata": {},
   "outputs": [],
   "source": [
    "netParams.stimSourceParams['IClamp1'] = {\n",
    "    \"type\": \"IClamp\",\n",
    "    \"dur\": 5,\n",
    "    \"del\": 20,\n",
    "    \"amp\": 0.1,\n",
    "}"
   ]
  },
  {
   "cell_type": "markdown",
   "metadata": {},
   "source": [
    "Now we need to add a target for our stimulation.  We do that by adding a dictionary to the *Stimulation Target Parameters* dictionary (**stimTargetParams**).  We'll call this connectivity rule **IClamp1->cell0**, because it will go from the source we just created (**IClamp1**) and the first cell in our population.  The stimulation (current injection in this case) will occur in our **dend** *section* at the very tip (*location* of **1.0**)."
   ]
  },
  {
   "cell_type": "code",
   "execution_count": null,
   "metadata": {},
   "outputs": [],
   "source": [
    "netParams.stimTargetParams['IClamp1->cell0'] = {\n",
    "    \"source\": \"IClamp1\",\n",
    "    \"conds\": {\"cellList\": [0]},\n",
    "    \"sec\": \"dend\",\n",
    "    \"loc\": 1.0,\n",
    "}"
   ]
  },
  {
   "cell_type": "markdown",
   "metadata": {},
   "source": [
    "### Create, simulate, and analyze the model\n"
   ]
  },
  {
   "cell_type": "code",
   "execution_count": null,
   "metadata": {},
   "outputs": [],
   "source": [
    "sim.createSimulateAnalyze(netParams=netParams, simConfig=simConfig)"
   ]
  },
  {
   "cell_type": "markdown",
   "metadata": {},
   "source": [
    "### Generate a raster plot\n",
    "\n",
    "Now we see there were 243 spikes.  Let's look at the raster plot."
   ]
  },
  {
   "cell_type": "code",
   "execution_count": null,
   "metadata": {},
   "outputs": [],
   "source": [
    "fig, figData = sim.analysis.plotRaster(marker='o', markerSize=50)"
   ]
  },
  {
   "cell_type": "markdown",
   "metadata": {},
   "source": [
    "Now we see activity in the network."
   ]
  },
  {
   "cell_type": "markdown",
   "metadata": {},
   "source": [
    "## Record and plot a variety of traces"
   ]
  },
  {
   "cell_type": "markdown",
   "metadata": {},
   "source": [
    "### Record and plot the somatic conductances\n",
    "\n",
    "Let's record and plot the somatic conductances.  These are defined by the **hh** mod file in NEURON (https://github.com/neuronsimulator/nrn/blob/master/src/nrnoc/hh.mod).  Looking into that file, we can see that the conductances are named **gna**, **gk**, and **gl**.  \n",
    "\n",
    "First let's delete the voltage traces from our **simConfig**."
   ]
  },
  {
   "cell_type": "code",
   "execution_count": null,
   "metadata": {},
   "outputs": [],
   "source": [
    "del simConfig.recordTraces['V_soma']\n",
    "del simConfig.recordTraces['V_dend']\n",
    "# or just simConfig.recordTraces = {}"
   ]
  },
  {
   "cell_type": "markdown",
   "metadata": {},
   "source": [
    "Then we can add the conductance traces."
   ]
  },
  {
   "cell_type": "code",
   "execution_count": null,
   "metadata": {},
   "outputs": [],
   "source": [
    "simConfig.recordTraces['gNa'] = {'sec': 'soma', 'loc': 0.5, 'mech': 'hh', 'var': 'gna'}\n",
    "simConfig.recordTraces['gK'] = {'sec': 'soma', 'loc': 0.5, 'mech': 'hh', 'var': 'gk'}\n",
    "simConfig.recordTraces['gL'] = {'sec': 'soma', 'loc': 0.5, 'mech': 'hh', 'var': 'gl'}"
   ]
  },
  {
   "cell_type": "markdown",
   "metadata": {},
   "source": [
    "And finally we will run the model."
   ]
  },
  {
   "cell_type": "code",
   "execution_count": null,
   "metadata": {},
   "outputs": [],
   "source": [
    "sim.createSimulateAnalyze(netParams=netParams, simConfig=simConfig)"
   ]
  },
  {
   "cell_type": "markdown",
   "metadata": {},
   "source": [
    "And look at the conductance traces."
   ]
  },
  {
   "cell_type": "code",
   "execution_count": null,
   "metadata": {},
   "outputs": [],
   "source": [
    "fig, figData = sim.analysis.plotTraces()"
   ]
  },
  {
   "cell_type": "markdown",
   "metadata": {},
   "source": [
    "Let's see those traces overlaid and zoom in a bit."
   ]
  },
  {
   "cell_type": "code",
   "execution_count": null,
   "metadata": {},
   "outputs": [],
   "source": [
    "fig, figData = sim.analysis.plotTraces(overlay=True, timeRange=[90, 110])"
   ]
  },
  {
   "cell_type": "markdown",
   "metadata": {},
   "source": [
    "### Record all somatic currents"
   ]
  },
  {
   "cell_type": "code",
   "execution_count": null,
   "metadata": {},
   "outputs": [],
   "source": [
    "del simConfig.recordTraces['gNa'] \n",
    "del simConfig.recordTraces['gK'] \n",
    "del simConfig.recordTraces['gL'] \n",
    "# or just simConfig.recordTraces = {}"
   ]
  },
  {
   "cell_type": "code",
   "execution_count": null,
   "metadata": {},
   "outputs": [],
   "source": [
    "simConfig.recordTraces['iNa'] = {'sec': 'soma', 'loc': 0.5, 'mech': 'hh', 'var': 'ina'}\n",
    "simConfig.recordTraces['iK'] = {'sec': 'soma', 'loc': 0.5, 'mech': 'hh', 'var': 'ik'}\n",
    "simConfig.recordTraces['iL'] = {'sec': 'soma', 'loc': 0.5, 'mech': 'hh', 'var': 'il'}"
   ]
  },
  {
   "cell_type": "code",
   "execution_count": null,
   "metadata": {},
   "outputs": [],
   "source": [
    "sim.createSimulateAnalyze(netParams=netParams, simConfig=simConfig)"
   ]
  },
  {
   "cell_type": "code",
   "execution_count": null,
   "metadata": {},
   "outputs": [],
   "source": [
    "fig, figData = sim.analysis.plotTraces(overlay=False)"
   ]
  },
  {
   "cell_type": "markdown",
   "metadata": {},
   "source": [
    "That's weird.  Only iL shows up, not iK or iNa..."
   ]
  },
  {
   "cell_type": "code",
   "execution_count": null,
   "metadata": {},
   "outputs": [],
   "source": [
    "sim.allSimData.keys()"
   ]
  },
  {
   "cell_type": "code",
   "execution_count": null,
   "metadata": {},
   "outputs": [],
   "source": [
    "sim.allSimData.iL.keys()"
   ]
  },
  {
   "cell_type": "code",
   "execution_count": null,
   "metadata": {},
   "outputs": [],
   "source": [
    "sim.allSimData.iK.keys()"
   ]
  },
  {
   "cell_type": "markdown",
   "metadata": {},
   "source": [
    "Why doesn't the data from iK show up?  INa doesn't show up either."
   ]
  },
  {
   "cell_type": "markdown",
   "metadata": {},
   "source": [
    "### Record from a synapse\n",
    "\n",
    "The mod file for **Exp2Syn** is here:\n",
    "https://github.com/neuronsimulator/nrn/blob/master/src/nrnoc/exp2syn.mod where we can see that its current variable is called **i**."
   ]
  },
  {
   "cell_type": "code",
   "execution_count": null,
   "metadata": {},
   "outputs": [],
   "source": [
    "simConfig.recordTraces = {}\n",
    "simConfig.recordTraces['iSyn0'] = {'sec': 'dend', 'loc': 1.0, 'synMech': 'exc', 'var': 'i'}"
   ]
  },
  {
   "cell_type": "code",
   "execution_count": null,
   "metadata": {},
   "outputs": [],
   "source": [
    "sim.createSimulateAnalyze(netParams=netParams, simConfig=simConfig)"
   ]
  },
  {
   "cell_type": "code",
   "execution_count": null,
   "metadata": {},
   "outputs": [],
   "source": [
    "fig, figData = sim.analysis.plotTraces()"
   ]
  },
  {
   "cell_type": "markdown",
   "metadata": {},
   "source": [
    "### Record ionic concentrations"
   ]
  },
  {
   "cell_type": "code",
   "execution_count": null,
   "metadata": {},
   "outputs": [],
   "source": [
    "del simConfig.recordTraces['iSyn0']\n",
    "# or simConfig.recordTraces = {}"
   ]
  },
  {
   "cell_type": "code",
   "execution_count": null,
   "metadata": {},
   "outputs": [],
   "source": [
    "simConfig.recordTraces['[Na]'] = {'sec': 'soma', 'loc': 0.5, 'var': 'nai'}\n",
    "simConfig.recordTraces['gNa'] = {'sec': 'soma', 'loc': 0.5, 'mech': 'hh', 'var': 'gna'}"
   ]
  },
  {
   "cell_type": "code",
   "execution_count": null,
   "metadata": {},
   "outputs": [],
   "source": [
    "sim.createSimulateAnalyze(netParams=netParams, simConfig=simConfig)"
   ]
  },
  {
   "cell_type": "code",
   "execution_count": null,
   "metadata": {},
   "outputs": [],
   "source": [
    "fig, figData = sim.analysis.plotTraces()"
   ]
  },
  {
   "cell_type": "markdown",
   "metadata": {},
   "source": [
    "Hmmmm, not very interesting.  Can someone suggest an ionic concentration mod that is interesting?"
   ]
  },
  {
   "cell_type": "markdown",
   "metadata": {},
   "source": [
    "### Record the stimulation"
   ]
  },
  {
   "cell_type": "code",
   "execution_count": null,
   "metadata": {},
   "outputs": [],
   "source": [
    "del simConfig.recordTraces['[Na]']\n",
    "del simConfig.recordTraces['gNa']\n",
    "# or simConfig.recordTraces = {}"
   ]
  },
  {
   "cell_type": "code",
   "execution_count": null,
   "metadata": {},
   "outputs": [],
   "source": [
    "simConfig.recordTraces['stim'] = {'sec': 'dend', 'loc': 1.0, 'pointp': 'IClamp', 'var': 'i'}\n",
    "simConfig.recordTraces['V_soma'] = {\"sec\": \"soma\", \"loc\": 0.5, \"var\": \"v\"}"
   ]
  },
  {
   "cell_type": "code",
   "execution_count": null,
   "metadata": {},
   "outputs": [],
   "source": [
    "sim.createSimulateAnalyze(netParams=netParams, simConfig=simConfig)"
   ]
  },
  {
   "cell_type": "code",
   "execution_count": null,
   "metadata": {},
   "outputs": [],
   "source": [
    "fig, figData = sim.analysis.plotTraces()"
   ]
  },
  {
   "cell_type": "markdown",
   "metadata": {},
   "source": [
    "## Access and manipulate data"
   ]
  },
  {
   "cell_type": "markdown",
   "metadata": {},
   "source": [
    "Calculate axial current: https://www.neuron.yale.edu/phpBB/viewtopic.php?t=2942"
   ]
  },
  {
   "cell_type": "code",
   "execution_count": null,
   "metadata": {},
   "outputs": [],
   "source": []
  },
  {
   "cell_type": "code",
   "execution_count": null,
   "metadata": {},
   "outputs": [],
   "source": []
  },
  {
   "cell_type": "code",
   "execution_count": null,
   "metadata": {},
   "outputs": [],
   "source": []
  },
  {
   "cell_type": "code",
   "execution_count": null,
   "metadata": {},
   "outputs": [],
   "source": []
  },
  {
   "cell_type": "code",
   "execution_count": null,
   "metadata": {},
   "outputs": [],
   "source": []
  },
  {
   "cell_type": "code",
   "execution_count": null,
   "metadata": {},
   "outputs": [],
   "source": []
  },
  {
   "cell_type": "code",
   "execution_count": null,
   "metadata": {},
   "outputs": [],
   "source": []
  },
  {
   "cell_type": "code",
   "execution_count": null,
   "metadata": {},
   "outputs": [],
   "source": []
  }
 ],
 "metadata": {
  "kernelspec": {
   "display_name": "env",
   "language": "python",
   "name": "env"
  },
  "language_info": {
   "codemirror_mode": {
    "name": "ipython",
    "version": 3
   },
   "file_extension": ".py",
   "mimetype": "text/x-python",
   "name": "python",
   "nbconvert_exporter": "python",
   "pygments_lexer": "ipython3",
   "version": "3.7.6"
  }
 },
 "nbformat": 4,
 "nbformat_minor": 4
}
